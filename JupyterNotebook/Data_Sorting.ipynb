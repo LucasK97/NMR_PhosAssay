{
 "cells": [
  {
   "cell_type": "code",
   "execution_count": 1,
   "id": "00288fab",
   "metadata": {},
   "outputs": [],
   "source": [
    "import os"
   ]
  },
  {
   "cell_type": "markdown",
   "id": "deb81f20",
   "metadata": {},
   "source": [
    "#### Add the path and file name"
   ]
  },
  {
   "cell_type": "code",
   "execution_count": 2,
   "id": "590d4c2d",
   "metadata": {},
   "outputs": [],
   "source": [
    "directory = '/Users/lucas/Documents/UZH/4_jahr_HS_2023/ResearchProject_NMR/Data/Phos_230822_b2_01_GM15_HMQC'\n",
    "file_name = 'Sample_List.py'\n",
    "file_path = os.path.join(directory, file_name)  # Create the full path "
   ]
  },
  {
   "cell_type": "markdown",
   "id": "5d855523",
   "metadata": {},
   "source": [
    "#### Function which searches for the keyword and gives the accoarding number + 2 in a list"
   ]
  },
  {
   "cell_type": "code",
   "execution_count": 3,
   "id": "afdf85df",
   "metadata": {},
   "outputs": [],
   "source": [
    "def process_file_for_keyword(keyword, file_path):\n",
    "    numbers_list = []\n",
    "\n",
    "    with open(file_path, 'r') as file:\n",
    "        for line in file:\n",
    "            if keyword in line:\n",
    "                parts = line.strip().split(',')\n",
    "                if len(parts) >= 3:\n",
    "                    try:\n",
    "                        number = int(parts[2].strip())\n",
    "                        numbers_list.append(number + 2)\n",
    "                    except ValueError:\n",
    "                        pass\n",
    "\n",
    "    return numbers_list"
   ]
  },
  {
   "cell_type": "code",
   "execution_count": 4,
   "id": "33dd00a4",
   "metadata": {},
   "outputs": [
    {
     "name": "stdout",
     "output_type": "stream",
     "text": [
      "b2AR 01 wt, HMQC data [612, 552, 492, 432, 372, 312, 252, 192, 132, 72, 12]\n",
      "b2Ar 02 wt, HMQC data [622, 562, 502, 442, 382, 322, 262, 202, 142, 82, 22]\n",
      "b2AR 03 wt, HMQC data [632, 572, 512, 452, 392, 332, 272, 212, 152, 92, 32]\n",
      "b2AR 01 mut, HMQC data [642, 582, 522, 462, 402, 342, 282, 222, 162, 102, 42]\n",
      "b2AR02 mut, HMQC data [652, 592, 532, 472, 412, 352, 292, 232, 172, 112, 52]\n",
      "b2AR 03 mut, HMQC data [662, 602, 542, 482, 422, 362, 302, 242, 182, 122, 62]\n"
     ]
    }
   ],
   "source": [
    "# Define a list of keywords\n",
    "keywords = ['b2AR 01 wt', 'b2Ar 02 wt', 'b2AR 03 wt', 'b2AR 01 mut', 'b2AR02 mut', 'b2AR 03 mut']  \n",
    "\n",
    "# Process the data for each keyword\n",
    "for keyword in keywords:\n",
    "    numbers_list = process_file_for_keyword(keyword, file_path)\n",
    "    numbers_list.reverse()\n",
    "    print(f\"{keyword}, HMQC data\", numbers_list)"
   ]
  }
 ],
 "metadata": {
  "kernelspec": {
   "display_name": "Python 3 (ipykernel)",
   "language": "python",
   "name": "python3"
  },
  "language_info": {
   "codemirror_mode": {
    "name": "ipython",
    "version": 3
   },
   "file_extension": ".py",
   "mimetype": "text/x-python",
   "name": "python",
   "nbconvert_exporter": "python",
   "pygments_lexer": "ipython3",
   "version": "3.9.17"
  }
 },
 "nbformat": 4,
 "nbformat_minor": 5
}
